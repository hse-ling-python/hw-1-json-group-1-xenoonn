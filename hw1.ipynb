{
 "cells": [
  {
   "cell_type": "code",
   "execution_count": 5,
   "metadata": {
    "scrolled": true
   },
   "outputs": [
    {
     "name": "stdout",
     "output_type": "stream",
     "text": [
      "Всего 2556 твитов \n",
      " 14 процентов составляют удаленные твиты \n",
      " Самый популярный язык -  en, , ja, , es,  \n",
      " 3 пользователя, у которых несколько твитов \n",
      " Популярные хэштеги -  방탄소년단  BTS  태형  BTS\\u  人気投票ガチャ  오늘의방탄  AMAs  V  BTSLoveYourselfTour  시카고회차공연  PCAs  BTSinChicago  running  뷔  เป๊กผลิตโชค  BTSARMY  MPN  JYPpleaseprotectmyBamBam  マラソン  グッズ \n"
     ]
    }
   ],
   "source": [
    "import json\n",
    "import re\n",
    "\n",
    "def opening():\n",
    "    text = []\n",
    "    for line in open('hw_3_twitter.json'):\n",
    "        text.append(json.loads(line))\n",
    "    return text\n",
    "text = opening()\n",
    "\n",
    "def counting(text):\n",
    "    number_text = len(text)\n",
    "    return number_text\n",
    "number_text = counting(text)\n",
    "\n",
    "def deleted():\n",
    "    with open('hw_3_twitter.json', encoding = 'utf-8') as f:\n",
    "        text = f.read()\n",
    "        text = text.split('\\n')\n",
    "        count = 0\n",
    "        for i in text:\n",
    "            if re.findall(r'delete',i):\n",
    "                count += 1\n",
    "    percent = round(count/len(text) * 100)\n",
    "    return percent\n",
    "percent = deleted()\n",
    "\n",
    "from collections import Counter\n",
    "\n",
    "def language(text):\n",
    "    languages = []\n",
    "    for ok in text:\n",
    "        if 'lang' in ok:\n",
    "            languages.append(ok['lang'])\n",
    "    number_languages = Counter(languages)\n",
    "    popular_lang = (Counter(number_languages).most_common(3))\n",
    "    popular_lang = str(popular_lang)\n",
    "    popular_lang = re.sub(r\"\\d+\", \"\", popular_lang, flags=re.UNICODE)\n",
    "    popular_lang_2 = re.sub('[<>/\\.\\=\\+\\%\\&\\*\\'\\\"\\;\\#\\-\\_\\[\\]\\(\\)]','',popular_lang)\n",
    "    return popular_lang_2\n",
    "popular_lang_2 = language(text)\n",
    "\n",
    "def polsovatel(text):\n",
    "    polsovateli = []\n",
    "    for ok in text:\n",
    "        if 'id' in ok:\n",
    "            polsovateli.append(ok['id'])\n",
    "    polsovateli_repeat = ([x for x in set(polsovateli) if polsovateli.count(x) > 1])\n",
    "    return polsovateli_repeat\n",
    "polsovateli_repeat = polsovatel(text)\n",
    "\n",
    "def hashtags(text):\n",
    "    hashtags = []\n",
    "    hashtags_2 = []\n",
    "    texts = []\n",
    "    for ok in text:\n",
    "        if 'text' in ok:\n",
    "            texts.append(ok['text'])\n",
    "    for textss in texts:\n",
    "        if '#' in textss:\n",
    "            hashtags.append(textss)\n",
    "    hashtags_str = ''.join(hashtags)\n",
    "    hashtags = hashtags_str.split(' ')\n",
    "    for k in hashtags:\n",
    "        if '#' in k:\n",
    "            hashtags_2.append(k)\n",
    "    popular_hash = (Counter(hashtags_2).most_common(20))\n",
    "    popular_hash = str(popular_hash)\n",
    "    popular_hash = re.sub(r\"\\d+\", \"\", popular_hash, flags=re.UNICODE)\n",
    "    popular_hash_2 = re.sub('[<>/\\.\\=\\+\\%\\&\\*\\'\\\"\\;\\#\\-\\,\\_\\[\\]\\(\\)]','',popular_hash)\n",
    "    return popular_hash_2\n",
    "popular_hash_2 = hashtags(text)\n",
    "def main(text, number_text, percent, popular_lang_2, polsovateli_repeat, popular_hash_2):\n",
    "        print('Всего', number_text,'твитов','\\n', percent,'процентов составляют удаленные твиты',\\\n",
    "              '\\n','Самый популярный язык - ', popular_lang_2,'\\n',len(polsovateli_repeat),\\\n",
    "              'пользователя, у которых несколько твитов','\\n',\\\n",
    "              'Популярные хэштеги - ',str(popular_hash_2))\n",
    "if __name__ == '__main__':\n",
    "    main(text, number_text, percent, popular_lang_2, polsovateli_repeat, popular_hash_2)\n"
   ]
  },
  {
   "cell_type": "markdown",
   "metadata": {},
   "source": []
  }
 ],
 "metadata": {
  "kernelspec": {
   "display_name": "Python 3",
   "language": "python",
   "name": "python3"
  },
  "language_info": {
   "codemirror_mode": {
    "name": "ipython",
    "version": 3
   },
   "file_extension": ".py",
   "mimetype": "text/x-python",
   "name": "python",
   "nbconvert_exporter": "python",
   "pygments_lexer": "ipython3",
   "version": "3.7.3"
  }
 },
 "nbformat": 4,
 "nbformat_minor": 2
}
